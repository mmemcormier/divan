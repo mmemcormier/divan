{
 "cells": [
  {
   "cell_type": "code",
   "execution_count": 1,
   "metadata": {},
   "outputs": [],
   "source": [
    "from universal_format import UniversalFormat\n",
    "from pathlib import Path\n",
    "import matplotlib.pyplot as plt"
   ]
  },
  {
   "cell_type": "code",
   "execution_count": 2,
   "metadata": {},
   "outputs": [],
   "source": [
    "#f = '/home/mmemc/projects/expt/test_data/Lin_CYC_67584_Nw_c0_43V_40C_c3c20_170713_SY17060714_01_7.txt'\n",
    "#f = '../tests/64065_NMC532-AG_55C_43V/jim_cyc_64065_nW_C0_43V_55c_170202_2vcdtd_300_945_BESTFORGRAPH_20_1.txt'\n",
    "#f = '../tests/80040_EASC622-AG_40C_42V/CPA_CYC_80040_Nx_c0_42V_40C_C20_181023_EASC622_AG_15MLiPF6_2FEC1ODTO.csv'\n",
    "#f= \"../tests/143559/CPA_CYC_143559_64_NX_c0_42V_40C_C20_200917-59.csv\"\n",
    "#f = \"../tests/ae_cyc_141319_nW_C0_42v_40c_200128_25dod_c10_nmc811_0000_03_4/ae_cyc_141319_nW_C0_42v_40c_200128_25dod_c10_nmc811_0000_03_4.txt\"\n",
    "f = \"../tests/AE_CYC_141316_c0_UHPC_42V_40C_C40_200122/AE_CYC_141316_c0_UHPC_42V_40C_C40_200122.csv\""
   ]
  },
  {
   "cell_type": "code",
   "execution_count": 14,
   "metadata": {},
   "outputs": [
    {
     "name": "stdout",
     "output_type": "stream",
     "text": [
      "Time (h),Cycle,Step,Meas I (A),Potential (V),Capacity (Ah),Flag\n",
      "\n",
      "Index(['Time', 'Cycle', 'Step', 'Current', 'Potential', 'Capacity'], dtype='object')\n",
      "Found charge C-rates: ['C/40']\n",
      "Found discharge C-rates: ['C/40']\n",
      "240.0 1.0\n"
     ]
    }
   ],
   "source": [
    "uf = UniversalFormat(f)\n",
    "#print(uf.formatted_df.columns)\n",
    "#print(uf.formatted_df[\"Prot.Step\"].unique())\n",
    "print(uf.ref_cap, uf.mass)"
   ]
  },
  {
   "cell_type": "code",
   "execution_count": 15,
   "metadata": {},
   "outputs": [
    {
     "data": {
      "text/plain": [
       "<AxesSubplot:xlabel='Capacity'>"
      ]
     },
     "execution_count": 15,
     "metadata": {},
     "output_type": "execute_result"
    },
    {
     "data": {
      "image/png": "[encoded data removed]",
      "text/plain": [
       "<Figure size 432x288 with 1 Axes>"
      ]
     },
     "metadata": {},
     "output_type": "display_data"
    }
   ],
   "source": [
    "uf.formatted_df.plot(\"Capacity\", \"Potential\")"
   ]
  },
  {
   "cell_type": "code",
   "execution_count": null,
   "metadata": {},
   "outputs": [],
   "source": [
    "cc = uf.find_checkup_cycles()\n",
    "\n",
    "print(cc[1:8])\n",
    "\n",
    "x,y = uf.get_vcurve(cycnum=58)\n",
    "print(max(y) - min(y))"
   ]
  },
  {
   "cell_type": "code",
   "execution_count": 7,
   "metadata": {},
   "outputs": [
    {
     "name": "stdout",
     "output_type": "stream",
     "text": [
      "3066.7302777777777\n"
     ]
    }
   ],
   "source": [
    "import numpy as np\n",
    "cyctime = uf.get_cyc_time(565)\n",
    "print(cyctime)\n"
   ]
  },
  {
   "cell_type": "code",
   "execution_count": null,
   "metadata": {},
   "outputs": [],
   "source": [
    "cycnums = uf.select_by_rate('C/20')\n",
    "print(len(cycnums))\n",
    "print(cycnums)"
   ]
  },
  {
   "cell_type": "code",
   "execution_count": null,
   "metadata": {},
   "outputs": [],
   "source": [
    "#cap, volt = uf.get_vcurve(cycnum=1, cyctype='discharge')\n",
    "#print(cap, volt)\n",
    "#print(len(cap), len(volt))\n",
    "#plt.plot(cap, volt)\n",
    "cap, volt = uf.get_vcurve(cycnum=4, cyctype='cycle')\n",
    "plt.plot(cap, volt)\n",
    "#cap, volt = uf.get_vcurve(cycnum=2, cyctype='discharge')\n",
    "#plt.plot(cap, volt)"
   ]
  },
  {
   "cell_type": "code",
   "execution_count": null,
   "metadata": {},
   "outputs": [],
   "source": [
    "uf.rec[\"Realtime\"].dtypes"
   ]
  },
  {
   "cell_type": "code",
   "execution_count": null,
   "metadata": {},
   "outputs": [],
   "source": [
    "for i in range(1, 4):\n",
    "    print(i)"
   ]
  },
  {
   "cell_type": "code",
   "execution_count": null,
   "metadata": {},
   "outputs": [],
   "source": []
  }
 ],
 "metadata": {
  "kernelspec": {
   "display_name": "Python 3 (Spyder)",
   "language": "python3",
   "name": "python3"
  },
  "language_info": {
   "codemirror_mode": {
    "name": "ipython",
    "version": 3
   },
   "file_extension": ".py",
   "mimetype": "text/x-python",
   "name": "python",
   "nbconvert_exporter": "python",
   "pygments_lexer": "ipython3",
   "version": "3.9.7"
  }
 },
 "nbformat": 4,
 "nbformat_minor": 4
}
