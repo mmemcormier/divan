{
 "cells": [
  {
   "cell_type": "code",
   "execution_count": 1,
   "id": "c635264a",
   "metadata": {},
   "outputs": [],
   "source": [
    "from universal_format import UniversalFormat\n",
    "import numpy as np\n",
    "import pandas as pd\n",
    "from pathlib import Path\n",
    "import matplotlib.pyplot as plt"
   ]
  },
  {
   "cell_type": "code",
   "execution_count": 2,
   "id": "4b903b7d",
   "metadata": {},
   "outputs": [
    {
     "name": "stdout",
     "output_type": "stream",
     "text": [
      "/home/mcormier/git/divan/tests/large_files/AE_CYC_181150_Nw_43V_c0_40C_1C_210127_NMC640_25DOD_1C_127.0.0.1_230115_4_4.txt\n"
     ]
    }
   ],
   "source": [
    "p = Path(\"/home/mcormier/git/divan/tests/large_files\")\n",
    "barcode = 181150\n",
    "f = \"AE_CYC_181150_Nw_43V_c0_40C_1C_210127_NMC640_25DOD_1C_127.0.0.1_230115_4_4.txt\"\n",
    "fpath = p / f\n",
    "fpath = str(fpath)\n",
    "print(fpath)"
   ]
  },
  {
   "cell_type": "markdown",
   "id": "c4307946",
   "metadata": {},
   "source": [
    "If you are on lab network, you should be able to access files from \"Y:\\databdayse\\DATA\\CYCLING\\NEWARE\\NEWAREB12B\". Just specify that inside Path(). \n",
    "\n",
    "I use the \"barcode\" to name the output files later."
   ]
  },
  {
   "cell_type": "code",
   "execution_count": null,
   "id": "88dd3b7d",
   "metadata": {},
   "outputs": [
    {
     "name": "stdout",
     "output_type": "stream",
     "text": [
      "WARNING: Using 201.92000000 mAh to compute rates -> the mean of the 5 largest capacities found in the file.\n"
     ]
    }
   ],
   "source": [
    "data = UniversalFormat(fpath)"
   ]
  },
  {
   "cell_type": "markdown",
   "id": "f9b38e1d",
   "metadata": {},
   "source": [
    "### Get (time, discharge capacity) and (cycle number for full C/20 cycles"
   ]
  },
  {
   "cell_type": "code",
   "execution_count": null,
   "id": "435637b8",
   "metadata": {},
   "outputs": [],
   "source": [
    "rate = \"C/20\"\n",
    "rate_cycs = data.select_by_rate(rate, cyctype='cyc')\n",
    "print(' First cycle found: {0:d} \\n Last cycle found: {1:d} \\n Number of cycles at {2}: {3:d}'.format(rate_cycs[0], rate_cycs[-1], rate, len(rate_cycs)))"
   ]
  },
  {
   "cell_type": "code",
   "execution_count": null,
   "id": "8163511d",
   "metadata": {},
   "outputs": [],
   "source": [
    "c, dV = data.deltaV(cycnums=rate_cycs)\n",
    "print(len(c), len(dV))"
   ]
  },
  {
   "cell_type": "markdown",
   "id": "b7ff57f6",
   "metadata": {},
   "source": [
    "#### Delta V sometimes fails due to division by zero. Use the good cycles returned by data.deltaV() to get corresponding discharge capacities."
   ]
  },
  {
   "cell_type": "code",
   "execution_count": null,
   "id": "d018a1e9",
   "metadata": {},
   "outputs": [],
   "source": [
    "t, discap  = data.get_discap(x_var='time', cycnums=c)\n",
    "print(len(t), len(discap))"
   ]
  },
  {
   "cell_type": "markdown",
   "id": "e831b106",
   "metadata": {},
   "source": [
    "#### Put (cycle number, time, discharge capacity, delta V) in dataframe and save to csv file."
   ]
  },
  {
   "cell_type": "code",
   "execution_count": null,
   "id": "634263e7",
   "metadata": {},
   "outputs": [],
   "source": [
    "df = pd.DataFrame(data={\"Time\": t, \"Cycle\": c, \"Discharge Capacity\": discap, \"Delta V\": dV})\n",
    "dstpath = Path(\"/home/mcormier/\")\n",
    "df.to_csv(path_or_buf=dstpath / \"Cover20_time-cyc-discap-dV_{}.csv\".format(barcode))"
   ]
  },
  {
   "cell_type": "markdown",
   "id": "cc3f01da",
   "metadata": {},
   "source": [
    "### Can do the operations all at once, looping over rates."
   ]
  },
  {
   "cell_type": "code",
   "execution_count": null,
   "id": "83aaeb63",
   "metadata": {},
   "outputs": [],
   "source": [
    "rates = [\"C/20\", \"1C\"]\n",
    "rates_for_file = [\"Cover20\", \"1C\"]\n",
    "for i in range(len(rates)):\n",
    "    print(\"Gettin {} cycles.\".format(rates[i]))\n",
    "    rate_cycs = data.select_by_rate(rates[i], cyctype='cyc')\n",
    "    print(' First cycle found: {0:d} \\n Last cycle found: {1:d} \\n Number of cycles at {2}: {3:d}'.format(rate_cycs[0], rate_cycs[-1], rates[i], len(rate_cycs)))\n",
    "    c, dV = data.deltaV(cycnums=rate_cycs)\n",
    "    print(\" Found {0:d} good delta V calculations.\".format(len(c)))\n",
    "    t, discap  = data.get_discap(x_var='time', cycnums=c)\n",
    "    df = pd.DataFrame(data={\"Time\": t, \"Cycle\": c, \"Discharge Capacity\": discap, \"Delta V\": dV})\n",
    "    dstpath = Path(\"/home/mcormier/\")\n",
    "    df.to_csv(path_or_buf=dstpath / \"{0}_time-cyc-discap-dV_{1}.csv\".format(rates_for_file[i], barcode))"
   ]
  },
  {
   "cell_type": "code",
   "execution_count": null,
   "id": "d2536c45",
   "metadata": {},
   "outputs": [],
   "source": []
  }
 ],
 "metadata": {
  "kernelspec": {
   "display_name": "Python 3 (Spyder)",
   "language": "python3",
   "name": "python3"
  },
  "language_info": {
   "codemirror_mode": {
    "name": "ipython",
    "version": 3
   },
   "file_extension": ".py",
   "mimetype": "text/x-python",
   "name": "python",
   "nbconvert_exporter": "python",
   "pygments_lexer": "ipython3",
   "version": "3.9.7"
  }
 },
 "nbformat": 4,
 "nbformat_minor": 5
}
