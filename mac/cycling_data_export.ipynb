{
 "cells": [
  {
   "cell_type": "code",
   "execution_count": 3,
   "id": "76d83c7b",
   "metadata": {},
   "outputs": [],
   "source": [
    "from universal_format import UniversalFormat\n",
    "import numpy as np\n",
    "import pandas as pd\n",
    "from pathlib import Path\n",
    "import matplotlib.pyplot as plt"
   ]
  },
  {
   "cell_type": "code",
   "execution_count": 14,
   "id": "b9a3015f",
   "metadata": {},
   "outputs": [
    {
     "name": "stdout",
     "output_type": "stream",
     "text": [
      "/home/mcormier/git/divan/tests/large_files/AE_CYC_181150_Nw_43V_c0_40C_1C_210127_NMC640_25DOD_1C_127.0.0.1_230115_4_4.txt\n"
     ]
    }
   ],
   "source": [
    "p = Path(\"/home/mcormier/git/divan/tests/large_files\")\n",
    "f = \"AE_CYC_181150_Nw_43V_c0_40C_1C_210127_NMC640_25DOD_1C_127.0.0.1_230115_4_4.txt\"\n",
    "fpath = p / f\n",
    "fpath = str(fpath)\n",
    "print(fpath)"
   ]
  },
  {
   "cell_type": "code",
   "execution_count": 15,
   "id": "e55fe027",
   "metadata": {},
   "outputs": [
    {
     "name": "stdout",
     "output_type": "stream",
     "text": [
      "WARNING: Using 201.92000000 mAh to compute rates -> the mean of the 5 largest capacities found in the file.\n",
      "Found charge C-rates: ['C/20', '1C']\n",
      "Found discharge C-rates: ['C/20', '1C']\n"
     ]
    }
   ],
   "source": [
    "data = UniversalFormat(fpath)"
   ]
  },
  {
   "cell_type": "code",
   "execution_count": 16,
   "id": "b0a28c57",
   "metadata": {},
   "outputs": [],
   "source": [
    "cycnums = data.get_cycnums()"
   ]
  },
  {
   "cell_type": "code",
   "execution_count": 17,
   "id": "932670f4",
   "metadata": {},
   "outputs": [],
   "source": [
    "t, discap  = data.get_discap(x_var='time')"
   ]
  },
  {
   "cell_type": "code",
   "execution_count": null,
   "id": "494157b5",
   "metadata": {},
   "outputs": [],
   "source": []
  }
 ],
 "metadata": {
  "kernelspec": {
   "display_name": "Python 3 (Spyder)",
   "language": "python3",
   "name": "python3"
  },
  "language_info": {
   "codemirror_mode": {
    "name": "ipython",
    "version": 3
   },
   "file_extension": ".py",
   "mimetype": "text/x-python",
   "name": "python",
   "nbconvert_exporter": "python",
   "pygments_lexer": "ipython3",
   "version": "3.9.7"
  }
 },
 "nbformat": 4,
 "nbformat_minor": 5
}
