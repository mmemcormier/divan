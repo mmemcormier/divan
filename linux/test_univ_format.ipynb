{
 "cells": [
  {
   "cell_type": "code",
   "execution_count": 8,
   "metadata": {},
   "outputs": [],
   "source": [
    "from universal_format import UniversalFormat\n",
    "from pathlib import Path\n",
    "import matplotlib.pyplot as plt"
   ]
  },
  {
   "cell_type": "code",
   "execution_count": 65,
   "metadata": {},
   "outputs": [],
   "source": [
    "#f = '/home/mmemc/projects/expt/test_data/Lin_CYC_67584_Nw_c0_43V_40C_c3c20_170713_SY17060714_01_7.txt'\n",
    "#f = '../tests/80040_EASC622-AG_40C_42V/CPA_CYC_80040_Nx_c0_42V_40C_C20_181023_EASC622_AG_15MLiPF6_2FEC1ODTO.csv'\n",
    "f= \"../tests/143559/CPA_CYC_143559_64_NX_c0_42V_40C_C20_200917-59.csv\""
   ]
  },
  {
   "cell_type": "code",
   "execution_count": 66,
   "metadata": {},
   "outputs": [
    {
     "ename": "ValueError",
     "evalue": "Wrong number of items passed 2, placement implies 1",
     "output_type": "error",
     "traceback": [
      "Traceback \u001b[0;36m(most recent call last)\u001b[0m:\n",
      "  File \u001b[1;32m\"<ipython-input-66-9d630dc9eaeb>\"\u001b[0m, line \u001b[1;32m1\u001b[0m, in \u001b[1;35m<module>\u001b[0m\n    uf = UniversalFormat(f)\n",
      "  File \u001b[1;32m\"/home/mmemc/git/labtools/divan/linux/universal_format.py\"\u001b[0m, line \u001b[1;32m74\u001b[0m, in \u001b[1;35m__init__\u001b[0m\n    self.formatted_df['Prot.Step'] = i.ne(i.shift()).cumsum() - 1\n",
      "  File \u001b[1;32m\"/home/mmemc/anaconda3/lib/python3.7/site-packages/pandas/core/frame.py\"\u001b[0m, line \u001b[1;32m3472\u001b[0m, in \u001b[1;35m__setitem__\u001b[0m\n    self._set_item(key, value)\n",
      "  File \u001b[1;32m\"/home/mmemc/anaconda3/lib/python3.7/site-packages/pandas/core/frame.py\"\u001b[0m, line \u001b[1;32m3550\u001b[0m, in \u001b[1;35m_set_item\u001b[0m\n    NDFrame._set_item(self, key, value)\n",
      "  File \u001b[1;32m\"/home/mmemc/anaconda3/lib/python3.7/site-packages/pandas/core/generic.py\"\u001b[0m, line \u001b[1;32m3381\u001b[0m, in \u001b[1;35m_set_item\u001b[0m\n    self._data.set(key, value)\n",
      "  File \u001b[1;32m\"/home/mmemc/anaconda3/lib/python3.7/site-packages/pandas/core/internals/managers.py\"\u001b[0m, line \u001b[1;32m1072\u001b[0m, in \u001b[1;35mset\u001b[0m\n    self.insert(len(self.items), item, value)\n",
      "  File \u001b[1;32m\"/home/mmemc/anaconda3/lib/python3.7/site-packages/pandas/core/internals/managers.py\"\u001b[0m, line \u001b[1;32m1181\u001b[0m, in \u001b[1;35minsert\u001b[0m\n    block = make_block(values=value, ndim=self.ndim, placement=slice(loc, loc + 1))\n",
      "  File \u001b[1;32m\"/home/mmemc/anaconda3/lib/python3.7/site-packages/pandas/core/internals/blocks.py\"\u001b[0m, line \u001b[1;32m3267\u001b[0m, in \u001b[1;35mmake_block\u001b[0m\n    return klass(values, ndim=ndim, placement=placement)\n",
      "\u001b[0;36m  File \u001b[0;32m\"/home/mmemc/anaconda3/lib/python3.7/site-packages/pandas/core/internals/blocks.py\"\u001b[0;36m, line \u001b[0;32m128\u001b[0;36m, in \u001b[0;35m__init__\u001b[0;36m\u001b[0m\n\u001b[0;31m    \"{mgr}\".format(val=len(self.values), mgr=len(self.mgr_locs))\u001b[0m\n",
      "\u001b[0;31mValueError\u001b[0m\u001b[0;31m:\u001b[0m Wrong number of items passed 2, placement implies 1\n"
     ]
    }
   ],
   "source": [
    "uf = UniversalFormat(f)\n",
    "print(uf.formatted_df.columns)\n",
    "print(uf.formatted_df[\"Prot.Step\"].unique())"
   ]
  },
  {
   "cell_type": "code",
   "execution_count": 31,
   "metadata": {},
   "outputs": [
    {
     "name": "stdout",
     "output_type": "stream",
     "text": [
      "21\n",
      "[1, 2, 3, 4, 5, 6, 7, 8, 9, 10, 11, 12, 13, 14, 15, 16, 17, 18, 19, 20, 21]\n"
     ]
    }
   ],
   "source": [
    "cycnums = uf.select_by_rate('C/20')\n",
    "print(len(cycnums))\n",
    "print(cycnums)"
   ]
  },
  {
   "cell_type": "code",
   "execution_count": 64,
   "metadata": {},
   "outputs": [
    {
     "name": "stdout",
     "output_type": "stream",
     "text": [
      "309\n"
     ]
    },
    {
     "data": {
      "text/plain": [
       "[<matplotlib.lines.Line2D at 0x7f9d4377aa50>]"
      ]
     },
     "execution_count": 64,
     "metadata": {},
     "output_type": "execute_result"
    },
    {
     "data": {
      "image/png": "[encoded data removed]",
      "text/plain": [
       "<Figure size 432x288 with 1 Axes>"
      ]
     },
     "metadata": {},
     "output_type": "display_data"
    }
   ],
   "source": [
    "#cap, volt = uf.get_vcurve(cycnum=1, cyctype='discharge')\n",
    "#print(cap, volt)\n",
    "#print(len(cap), len(volt))\n",
    "#plt.plot(cap, volt)\n",
    "cap, volt = uf.get_vcurve(cycnum=2, cyctype='cycle')\n",
    "plt.plot(cap, volt)\n",
    "#cap, volt = uf.get_vcurve(cycnum=2, cyctype='discharge')\n",
    "#plt.plot(cap, volt)"
   ]
  },
  {
   "cell_type": "code",
   "execution_count": 34,
   "metadata": {},
   "outputs": [
    {
     "ename": "AttributeError",
     "evalue": "'UniversalFormat' object has no attribute 'plot'",
     "output_type": "error",
     "traceback": [
      "Traceback \u001b[0;36m(most recent call last)\u001b[0m:\n",
      "\u001b[0;36m  File \u001b[0;32m\"<ipython-input-34-ce273cc1efb0>\"\u001b[0;36m, line \u001b[0;32m1\u001b[0;36m, in \u001b[0;35m<module>\u001b[0;36m\u001b[0m\n\u001b[0;31m    uf.plot(\"Capacity (Ah)\", \"Potential (V)\")\u001b[0m\n",
      "\u001b[0;31mAttributeError\u001b[0m\u001b[0;31m:\u001b[0m 'UniversalFormat' object has no attribute 'plot'\n"
     ]
    }
   ],
   "source": [
    "uf.formatted_df.plot('Capacity (Ah)', '')"
   ]
  },
  {
   "cell_type": "code",
   "execution_count": null,
   "metadata": {},
   "outputs": [],
   "source": []
  }
 ],
 "metadata": {
  "kernelspec": {
   "display_name": "Python 3 (Spyder)",
   "language": "python3",
   "name": "python3"
  },
  "language_info": {
   "codemirror_mode": {
    "name": "ipython",
    "version": 3
   },
   "file_extension": ".py",
   "mimetype": "text/x-python",
   "name": "python",
   "nbconvert_exporter": "python",
   "pygments_lexer": "ipython3",
   "version": "3.7.4"
  }
 },
 "nbformat": 4,
 "nbformat_minor": 2
}
