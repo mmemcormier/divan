{
 "cells": [
  {
   "cell_type": "code",
   "execution_count": 5,
   "metadata": {},
   "outputs": [],
   "source": [
    "from universal_format import UniversalFormat\n",
    "from pathlib import Path\n",
    "import matplotlib.pyplot as plt"
   ]
  },
  {
   "cell_type": "code",
   "execution_count": 3,
   "metadata": {},
   "outputs": [],
   "source": [
    "#f = '/home/mmemc/projects/expt/test_data/Lin_CYC_67584_Nw_c0_43V_40C_c3c20_170713_SY17060714_01_7.txt'\n",
    "#f = '../tests/64065_NMC532-AG_55C_43V/jim_cyc_64065_nW_C0_43V_55c_170202_2vcdtd_300_945_BESTFORGRAPH_20_1.txt'\n",
    "#f = '../tests/80040_EASC622-AG_40C_42V/CPA_CYC_80040_Nx_c0_42V_40C_C20_181023_EASC622_AG_15MLiPF6_2FEC1ODTO.csv'\n",
    "#f= \"../tests/143559/CPA_CYC_143559_64_NX_c0_42V_40C_C20_200917-59.csv\"\n",
    "f = \"../tests/dev-debug/ae_CYC_141271_Nw_c1_406V_20C_200123_25DOD_C10_NMC811_0000_16_2.txt\""
   ]
  },
  {
   "cell_type": "code",
   "execution_count": 7,
   "metadata": {},
   "outputs": [
    {
     "name": "stdout",
     "output_type": "stream",
     "text": [
      "Found charge C-rates: ['C/10']\n",
      "Found discharge C-rates: ['C/10']\n"
     ]
    }
   ],
   "source": [
    "uf = UniversalFormat(f)\n",
    "#print(uf.formatted_df.columns)\n",
    "#print(uf.formatted_df[\"Prot.Step\"].unique())"
   ]
  },
  {
   "cell_type": "code",
   "execution_count": 107,
   "metadata": {},
   "outputs": [
    {
     "data": {
      "text/plain": [
       "array([0, 2, 5])"
      ]
     },
     "execution_count": 107,
     "metadata": {},
     "output_type": "execute_result"
    }
   ],
   "source": [
    "uf.formatted_df[\"Step\"].unique()"
   ]
  },
  {
   "cell_type": "code",
   "execution_count": 108,
   "metadata": {},
   "outputs": [
    {
     "name": "stdout",
     "output_type": "stream",
     "text": [
      "48\n",
      "[2, 54, 106, 158, 210, 262, 314, 366, 418, 470, 522, 574, 626, 678, 730, 782, 834, 886, 938, 990, 1042, 1094, 1146, 1198, 1250, 1302, 1354, 1406, 1458, 1510, 1562, 1614, 1666, 1718, 1770, 1822, 1874, 1926, 1978, 2030, 2082, 2134, 2186, 2238, 2290, 2342, 2394, 2446]\n"
     ]
    }
   ],
   "source": [
    "cycnums = uf.select_by_rate('C/20')\n",
    "print(len(cycnums))\n",
    "print(cycnums)"
   ]
  },
  {
   "cell_type": "code",
   "execution_count": 141,
   "metadata": {},
   "outputs": [
    {
     "name": "stdout",
     "output_type": "stream",
     "text": [
      "45\n"
     ]
    },
    {
     "data": {
      "text/plain": [
       "[<matplotlib.lines.Line2D at 0x7f9d37ce97d0>]"
      ]
     },
     "execution_count": 141,
     "metadata": {},
     "output_type": "execute_result"
    },
    {
     "data": {
      "image/png": "[encoded data removed]",
      "text/plain": [
       "<Figure size 432x288 with 1 Axes>"
      ]
     },
     "metadata": {},
     "output_type": "display_data"
    }
   ],
   "source": [
    "#cap, volt = uf.get_vcurve(cycnum=1, cyctype='discharge')\n",
    "#print(cap, volt)\n",
    "#print(len(cap), len(volt))\n",
    "#plt.plot(cap, volt)\n",
    "cap, volt = uf.get_vcurve(cycnum=4, cyctype='cycle')\n",
    "plt.plot(cap, volt)\n",
    "#cap, volt = uf.get_vcurve(cycnum=2, cyctype='discharge')\n",
    "#plt.plot(cap, volt)"
   ]
  },
  {
   "cell_type": "code",
   "execution_count": 87,
   "metadata": {},
   "outputs": [
    {
     "ename": "AttributeError",
     "evalue": "'UniversalFormat' object has no attribute 'rec'",
     "output_type": "error",
     "traceback": [
      "Traceback \u001b[0;36m(most recent call last)\u001b[0m:\n",
      "\u001b[0;36m  File \u001b[0;32m\"<ipython-input-87-e1798c25fc84>\"\u001b[0;36m, line \u001b[0;32m1\u001b[0;36m, in \u001b[0;35m<module>\u001b[0;36m\u001b[0m\n\u001b[0;31m    uf.rec[\"Realtime\"].dtypes\u001b[0m\n",
      "\u001b[0;31mAttributeError\u001b[0m\u001b[0;31m:\u001b[0m 'UniversalFormat' object has no attribute 'rec'\n"
     ]
    }
   ],
   "source": [
    "uf.rec[\"Realtime\"].dtypes"
   ]
  },
  {
   "cell_type": "code",
   "execution_count": 120,
   "metadata": {},
   "outputs": [
    {
     "name": "stdout",
     "output_type": "stream",
     "text": [
      "1\n",
      "2\n",
      "3\n"
     ]
    }
   ],
   "source": [
    "for i in range(1, 4):\n",
    "    print(i)"
   ]
  },
  {
   "cell_type": "code",
   "execution_count": null,
   "metadata": {},
   "outputs": [],
   "source": []
  }
 ],
 "metadata": {
  "kernelspec": {
   "display_name": "Python 3 (Spyder)",
   "language": "python3",
   "name": "python3"
  },
  "language_info": {
   "codemirror_mode": {
    "name": "ipython",
    "version": 3
   },
   "file_extension": ".py",
   "mimetype": "text/x-python",
   "name": "python",
   "nbconvert_exporter": "python",
   "pygments_lexer": "ipython3",
   "version": "3.7.4"
  }
 },
 "nbformat": 4,
 "nbformat_minor": 2
}
