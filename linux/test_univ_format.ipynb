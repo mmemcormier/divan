{
 "cells": [
  {
   "cell_type": "code",
   "execution_count": 67,
   "metadata": {},
   "outputs": [],
   "source": [
    "from universal_format import UniversalFormat\n",
    "from pathlib import Path\n",
    "import matplotlib.pyplot as plt"
   ]
  },
  {
   "cell_type": "code",
   "execution_count": 78,
   "metadata": {},
   "outputs": [],
   "source": [
    "#f = '/home/mmemc/projects/expt/test_data/Lin_CYC_67584_Nw_c0_43V_40C_c3c20_170713_SY17060714_01_7.txt'\n",
    "f = '../tests/80040_EASC622-AG_40C_42V/CPA_CYC_80040_Nx_c0_42V_40C_C20_181023_EASC622_AG_15MLiPF6_2FEC1ODTO.csv'\n",
    "#f= \"../tests/143559/CPA_CYC_143559_64_NX_c0_42V_40C_C20_200917-59.csv\""
   ]
  },
  {
   "cell_type": "code",
   "execution_count": 81,
   "metadata": {},
   "outputs": [
    {
     "name": "stdout",
     "output_type": "stream",
     "text": [
      "['Date and Time', 'Cycle Number', 'Step Number', 'Run Time (h)', ' Step Time (h)', 'Current (A)', 'Potential (V)', 'Capacity (Ah)', 'Temperature (°C)', 'Circuit Temperature (°C)']\n",
      "10\n",
      "['Date and Time', 'Cycle', 'Step', 'Time', ' Step Time (h)', 'Current', 'Potential', 'Capacity', 'Temperature (°C)', 'Circuit Temperature (°C)']\n",
      "10\n",
      "Found charge C-rates: ['C/10']\n",
      "Found discharge C-rates: ['C/10']\n"
     ]
    }
   ],
   "source": [
    "uf = UniversalFormat(f)\n",
    "#print(uf.formatted_df.columns)\n",
    "#print(uf.formatted_df[\"Prot.Step\"].unique())"
   ]
  },
  {
   "cell_type": "code",
   "execution_count": 31,
   "metadata": {},
   "outputs": [
    {
     "name": "stdout",
     "output_type": "stream",
     "text": [
      "21\n",
      "[1, 2, 3, 4, 5, 6, 7, 8, 9, 10, 11, 12, 13, 14, 15, 16, 17, 18, 19, 20, 21]\n"
     ]
    }
   ],
   "source": [
    "cycnums = uf.select_by_rate('C/20')\n",
    "print(len(cycnums))\n",
    "print(cycnums)"
   ]
  },
  {
   "cell_type": "code",
   "execution_count": 82,
   "metadata": {},
   "outputs": [
    {
     "name": "stdout",
     "output_type": "stream",
     "text": [
      "308\n"
     ]
    },
    {
     "data": {
      "text/plain": [
       "[<matplotlib.lines.Line2D at 0x7f9d42806e50>]"
      ]
     },
     "execution_count": 82,
     "metadata": {},
     "output_type": "execute_result"
    },
    {
     "data": {
      "image/png": "[encoded data removed]",
      "text/plain": [
       "<Figure size 432x288 with 1 Axes>"
      ]
     },
     "metadata": {},
     "output_type": "display_data"
    }
   ],
   "source": [
    "#cap, volt = uf.get_vcurve(cycnum=1, cyctype='discharge')\n",
    "#print(cap, volt)\n",
    "#print(len(cap), len(volt))\n",
    "#plt.plot(cap, volt)\n",
    "cap, volt = uf.get_vcurve(cycnum=3, cyctype='cycle')\n",
    "plt.plot(cap, volt)\n",
    "#cap, volt = uf.get_vcurve(cycnum=2, cyctype='discharge')\n",
    "#plt.plot(cap, volt)"
   ]
  },
  {
   "cell_type": "code",
   "execution_count": 34,
   "metadata": {},
   "outputs": [
    {
     "ename": "AttributeError",
     "evalue": "'UniversalFormat' object has no attribute 'plot'",
     "output_type": "error",
     "traceback": [
      "Traceback \u001b[0;36m(most recent call last)\u001b[0m:\n",
      "\u001b[0;36m  File \u001b[0;32m\"<ipython-input-34-ce273cc1efb0>\"\u001b[0;36m, line \u001b[0;32m1\u001b[0;36m, in \u001b[0;35m<module>\u001b[0;36m\u001b[0m\n\u001b[0;31m    uf.plot(\"Capacity (Ah)\", \"Potential (V)\")\u001b[0m\n",
      "\u001b[0;31mAttributeError\u001b[0m\u001b[0;31m:\u001b[0m 'UniversalFormat' object has no attribute 'plot'\n"
     ]
    }
   ],
   "source": []
  },
  {
   "cell_type": "code",
   "execution_count": null,
   "metadata": {},
   "outputs": [],
   "source": []
  }
 ],
 "metadata": {
  "kernelspec": {
   "display_name": "Python 3 (Spyder)",
   "language": "python3",
   "name": "python3"
  },
  "language_info": {
   "codemirror_mode": {
    "name": "ipython",
    "version": 3
   },
   "file_extension": ".py",
   "mimetype": "text/x-python",
   "name": "python",
   "nbconvert_exporter": "python",
   "pygments_lexer": "ipython3",
   "version": "3.7.4"
  }
 },
 "nbformat": 4,
 "nbformat_minor": 2
}
